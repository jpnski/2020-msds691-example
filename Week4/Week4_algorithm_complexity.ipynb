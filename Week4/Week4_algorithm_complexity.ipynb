{
 "cells": [
  {
   "cell_type": "code",
   "execution_count": 42,
   "metadata": {
    "ExecuteTime": {
     "end_time": "2020-10-28T21:21:39.779998Z",
     "start_time": "2020-10-28T21:21:39.778247Z"
    }
   },
   "outputs": [],
   "source": [
    "import math"
   ]
  },
  {
   "cell_type": "code",
   "execution_count": 61,
   "metadata": {
    "ExecuteTime": {
     "end_time": "2020-10-28T21:24:58.615154Z",
     "start_time": "2020-10-28T21:24:58.613192Z"
    }
   },
   "outputs": [],
   "source": [
    "nums = sorted([1, 2, 3, 4])\n",
    "num_to_find = 4"
   ]
  },
  {
   "cell_type": "code",
   "execution_count": 62,
   "metadata": {
    "ExecuteTime": {
     "end_time": "2020-10-28T21:24:59.073116Z",
     "start_time": "2020-10-28T21:24:59.070844Z"
    }
   },
   "outputs": [],
   "source": [
    "def linear_search(nums, num_to_find):\n",
    "    for num in nums:\n",
    "        if(num == num_to_find):\n",
    "            return(\"found\")\n",
    "    return(\"not found\")"
   ]
  },
  {
   "cell_type": "code",
   "execution_count": 63,
   "metadata": {
    "ExecuteTime": {
     "end_time": "2020-10-28T21:24:59.339581Z",
     "start_time": "2020-10-28T21:24:59.336785Z"
    }
   },
   "outputs": [
    {
     "data": {
      "text/plain": [
       "'found'"
      ]
     },
     "execution_count": 63,
     "metadata": {},
     "output_type": "execute_result"
    }
   ],
   "source": [
    "linear_search(nums, num_to_find)"
   ]
  },
  {
   "cell_type": "code",
   "execution_count": 64,
   "metadata": {
    "ExecuteTime": {
     "end_time": "2020-10-28T21:25:00.096028Z",
     "start_time": "2020-10-28T21:25:00.092926Z"
    }
   },
   "outputs": [],
   "source": [
    "def binary_search(nums, num_to_find):    \n",
    "    start_index = 0\n",
    "    end_index = len(nums) - 1\n",
    "\n",
    "    while(start_index <= end_index):\n",
    "        mid_index = math.floor((start_index + end_index)/2)\n",
    "        \n",
    "        if(nums[mid_index] == num_to_find):\n",
    "            return ('found')\n",
    "        elif (nums[mid_index] < num_to_find):\n",
    "            start_index = mid_index + 1\n",
    "        else:\n",
    "            end_index = mid_index - 1\n",
    "    return(\"not found\")"
   ]
  },
  {
   "cell_type": "code",
   "execution_count": 65,
   "metadata": {
    "ExecuteTime": {
     "end_time": "2020-10-28T21:25:00.409331Z",
     "start_time": "2020-10-28T21:25:00.405798Z"
    }
   },
   "outputs": [
    {
     "data": {
      "text/plain": [
       "'found'"
      ]
     },
     "execution_count": 65,
     "metadata": {},
     "output_type": "execute_result"
    }
   ],
   "source": [
    "binary_search(nums, 4)"
   ]
  },
  {
   "cell_type": "code",
   "execution_count": null,
   "metadata": {},
   "outputs": [],
   "source": []
  }
 ],
 "metadata": {
  "kernelspec": {
   "display_name": "Python 3",
   "language": "python",
   "name": "python3"
  },
  "language_info": {
   "codemirror_mode": {
    "name": "ipython",
    "version": 3
   },
   "file_extension": ".py",
   "mimetype": "text/x-python",
   "name": "python",
   "nbconvert_exporter": "python",
   "pygments_lexer": "ipython3",
   "version": "3.8.5"
  }
 },
 "nbformat": 4,
 "nbformat_minor": 4
}
